{
 "cells": [
  {
   "cell_type": "markdown",
   "metadata": {},
   "source": [
    "# Lab 5: Simple OOP and numpy\n"
   ]
  },
  {
   "cell_type": "markdown",
   "metadata": {},
   "source": [
    "__Student:__ Biswas Kumar (bisku859)\n",
    "\n",
    "__Student:__ Julia Lindohf (julso810)\n"
   ]
  },
  {
   "cell_type": "markdown",
   "metadata": {},
   "source": [
    "# 2. Introduction"
   ]
  },
  {
   "cell_type": "markdown",
   "metadata": {},
   "source": [
    "## Object-oriented Programming"
   ]
  },
  {
   "cell_type": "markdown",
   "metadata": {},
   "source": [
    "The point of Object-oriented Programming is to support encapsulation and the DRY (Don't Repeat Yourself) principle without things getting out of hand. Often, software architects (those high-level programmers who are responsible for how large systems are designed on a technical level) talk about Object-oriented design or Object-oriented analysis. The point of this is to identify the necessary _objects_ in a system. An object in this sense is not exactly the same as a Python object but rather a somewhat higher level logical unit which can reasonably be thought of as an independent component within the system. These high level objects might then be further subdivided into smaller and smaller objects and at a some level the responsibility shifts from the system architect to the team or individual developer working on a specific component. Thus, Object-oriented thinking is necessary for anyone developing code which will be integrated with a larger system, for instance a data scientist implementing analytics tools."
   ]
  },
  {
   "cell_type": "markdown",
   "metadata": {},
   "source": [
    "## OOP in Python"
   ]
  },
  {
   "cell_type": "markdown",
   "metadata": {},
   "source": [
    "Python implements the Object-oriented paradigm to a somewhat larger degree than the Functional paradigm. However, there are features considered necessary for _strict_ object-oriented programming missing from Python. Mainly, we are talking about data protection. Not in a software security sense, but in the sense of encapsulation. There is no simple way to strictly control access to member variables in Python. This does not affect this lab in any way but is worth remembering if one has worked in a language such as Java previously."
   ]
  },
  {
   "cell_type": "markdown",
   "metadata": {},
   "source": [
    "# 3. Simple instance tests in Python"
   ]
  },
  {
   "cell_type": "markdown",
   "metadata": {},
   "source": [
    "Note: some of these questions will be extremely simple, and some might prove trickier. Don't expect that the answer needs to be hard."
   ]
  },
  {
   "cell_type": "code",
   "execution_count": 2,
   "metadata": {},
   "outputs": [],
   "source": [
    "class Person:\n",
    "    def __init__(self, name):\n",
    "        self.name = name\n",
    "        self.age = 0          # Age should be non-negative.\n",
    "        \n",
    "    def get_age(self):\n",
    "        \"\"\"Return the Person's age, a non-negative number.\"\"\"\n",
    "        return self.age\n",
    "    \n",
    "    def return_five(self):\n",
    "        \"\"\"Return 5. Dummy function.\"\"\"\n",
    "        return 5\n",
    "\n",
    "Jackal = Person \n",
    "\n",
    "president = Person(\"Jeb\") \n",
    "psec = Jackal(\"CJ Cregg\")     "
   ]
  },
  {
   "cell_type": "markdown",
   "metadata": {},
   "source": [
    "a) Change the age of the `president` to 65 (`psec` should be unaffected)."
   ]
  },
  {
   "cell_type": "code",
   "execution_count": 6,
   "metadata": {},
   "outputs": [
    {
     "name": "stdout",
     "output_type": "stream",
     "text": [
      "65\n",
      "Jeb\n"
     ]
    }
   ],
   "source": [
    "president = Person(\"Jeb\") \n",
    "president.age = 65  \n",
    "print(president.get_age())    \n",
    "print(president.name)     "
   ]
  },
  {
   "cell_type": "markdown",
   "metadata": {},
   "source": [
    "[Note: This mode of operation is sometimes considered poor OOP. We will remedy this later.]"
   ]
  },
  {
   "cell_type": "markdown",
   "metadata": {},
   "source": [
    "b) How many `Person` instances are there? One, two or three?"
   ]
  },
  {
   "cell_type": "code",
   "execution_count": 4,
   "metadata": {},
   "outputs": [
    {
     "name": "stdout",
     "output_type": "stream",
     "text": [
      "False\n",
      "True\n",
      "True\n"
     ]
    }
   ],
   "source": [
    "# \"While the class is the blueprint, an instance is a copy of the class with actual values, literally an object belonging to a specific class.\"\n",
    "# Enligt https://realpython.com/python3-object-oriented-programming/\n",
    "\n",
    "# Therefore are two instances, to the class Person here. Jackal is a class not an instance.\n",
    "print(isinstance(Jackal, Person)) #False\n",
    "print(isinstance(president, Person)) #True\n",
    "print(isinstance(psec, Person)) #True    "
   ]
  },
  {
   "cell_type": "markdown",
   "metadata": {},
   "source": [
    "c) Consider the following code snippets. What do you think that they will return, and why? Discuss amongst yourselves. After that, run the code and explain the output. You only need to write down your explanation of the output."
   ]
  },
  {
   "cell_type": "code",
   "execution_count": 7,
   "metadata": {},
   "outputs": [
    {
     "data": {
      "text/plain": [
       "False"
      ]
     },
     "execution_count": 7,
     "metadata": {},
     "output_type": "execute_result"
    }
   ],
   "source": [
    "\"Jeb\" is Person   "
   ]
  },
  {
   "cell_type": "code",
   "execution_count": 11,
   "metadata": {
    "scrolled": true
   },
   "outputs": [
    {
     "data": {
      "text/plain": [
       "False"
      ]
     },
     "execution_count": 11,
     "metadata": {},
     "output_type": "execute_result"
    }
   ],
   "source": [
    "president is Person    "
   ]
  },
  {
   "cell_type": "code",
   "execution_count": null,
   "metadata": {},
   "outputs": [],
   "source": [
    "# Your answer goes here.\n",
    "# - \"Jeb\" is a string, not an instance. Therefore the reply is false. \n",
    "# The instance variables are defined within the methods. \n",
    "# On the other hand, president.name is an instance\n",
    "# - The is operator compares if president and Person is the same object with different names, \n",
    "# but president is an instance of the class Person, therefore different objects."
   ]
  },
  {
   "cell_type": "markdown",
   "metadata": {},
   "source": [
    "d) How would you go about checking whether or not the value bound to the name `president` is-a `Person`?"
   ]
  },
  {
   "cell_type": "code",
   "execution_count": 6,
   "metadata": {},
   "outputs": [
    {
     "name": "stdout",
     "output_type": "stream",
     "text": [
      "True\n"
     ]
    }
   ],
   "source": [
    "print(isinstance(president, Person))  "
   ]
  },
  {
   "cell_type": "markdown",
   "metadata": {},
   "source": [
    "# 4. Subclasses"
   ]
  },
  {
   "cell_type": "markdown",
   "metadata": {},
   "source": [
    "a) Create class `Employee`, a subclass of `Person` with data attributes (fields) \n",
    "* `__work_days_accrued`\n",
    "* `__daily_salary`. \n",
    "\n",
    "These should be *the only* data attributes which you write in your class definition. In particular, you may not duplicate `name` and `age`.\n",
    "\n",
    "There should be methods\n",
    "* `work` which increments the number of work days accrued.\n",
    "* `expected_payout` which just returns the expected payout for the employee based on the accrued work days and daily salary (but without doing any resets).\n",
    "* `payout` which returns the accrued salary and resets the number of work days accrued. The `payout` function may not perform any calculations itself."
   ]
  },
  {
   "cell_type": "code",
   "execution_count": 13,
   "metadata": {},
   "outputs": [
    {
     "name": "stdout",
     "output_type": "stream",
     "text": [
      "--- Setting up test cases.\n",
      "--- Testing payout and expected_payout properties.\n",
      "OK\n",
      "--- Testing non-data-accessing calls to superclass methods.\n",
      "OK\n",
      "--- Testing data that should be set up by initialiser call.\n",
      "OK\n"
     ]
    }
   ],
   "source": [
    "# Your code goes here.\n",
    "# https://www.w3schools.com/python/python_inheritance.asp\n",
    "\n",
    "class Employee(Person):\n",
    "    def __init__(self, name, daily_salary=15): # 15 crowns is the default value\n",
    "        # help reference \n",
    "        # https://www.programiz.com/python-programming/methods/built-in/super\n",
    "        super().__init__(name = name) # name belongs to the initial super state\n",
    "        self.__work_days_accrued = 0\n",
    "        self.__daily_salary = daily_salary\n",
    "        \n",
    "    def work(self): \n",
    "        self.__work_days_accrued += 1 \n",
    "        \n",
    "    def expected_payout(self): \n",
    "        temp1 = self.__work_days_accrued\n",
    "        temp2 = self.__daily_salary\n",
    "        current_salary = temp1 * temp2\n",
    "        return current_salary\n",
    "\n",
    "    def payout(self):\n",
    "        accrued_salary = self.expected_payout()\n",
    "        self.__work_days_accrued = 0 \n",
    "        return accrued_salary # den totala summan, den anställda får \n",
    "\n",
    "# Ready-made tests.\n",
    "print(\"--- Setting up test cases.\")\n",
    "\n",
    "cleaner = Employee(name = \"Scruffy\")  # Should have daily_salary 15 crowns.\n",
    "josh = Employee(name = \"Josh\", daily_salary = 1000)\n",
    "toby = Employee(name = \"Toby\", daily_salary = 9999)\n",
    "\n",
    "josh.work()\n",
    "josh.work()\n",
    "toby.work()\n",
    "toby.work()\n",
    "toby.work()\n",
    "cleaner.work()\n",
    "\n",
    "print(\"--- Testing payout and expected_payout properties.\")\n",
    "assert cleaner.expected_payout() == 15, \"default salary should be 15\"\n",
    "assert josh.expected_payout() == 1000*2\n",
    "assert josh.payout() == 1000*2\n",
    "assert josh.expected_payout() == 0, \"salary should be reset afterwards\"\n",
    "assert toby.payout() == 9999*3, \"toby and josh instances should be independent.\"\n",
    "print(\"OK\")\n",
    "\n",
    "print(\"--- Testing non-data-accessing calls to superclass methods.\")\n",
    "assert josh.return_five() == 5, \"Person.return_five should be accessible\"\n",
    "print(\"OK\")\n",
    "\n",
    "print(\"--- Testing data that should be set up by initialiser call.\")\n",
    "assert josh.get_age() == 0, \"superclass method should be callable, values should not be missing.\"\n",
    "josh.age = 9\n",
    "assert josh.get_age() == 9, \"superclass method should be callable\"\n",
    "print(\"OK\")    "
   ]
  },
  {
   "cell_type": "markdown",
   "metadata": {},
   "source": [
    "b) Which public data attributes (fields) does an `Employee` have? Can you access the age of an employee directly (without some transformation of the name)? The daily salary?"
   ]
  },
  {
   "cell_type": "code",
   "execution_count": 14,
   "metadata": {},
   "outputs": [
    {
     "name": "stdout",
     "output_type": "stream",
     "text": [
      "9\n",
      "Josh\n"
     ]
    }
   ],
   "source": [
    "# Answer here.\n",
    "print(josh.age)\n",
    "print(josh.name)\n",
    "# print(josh.__work_days_accrued) ingen åtkomst\n",
    "# print(josh.__daily_salary) ingen åtkomst\n",
    "#josh, \n",
    "# The age of the employ, also their nme could be accessed, since the subclass employ has inherited all public attributes from the parent object. \n",
    "\n",
    "# It is impossible to have any access to the local variables, such as  __work_days_accrued and __daily_salary, with underscores\n",
    "\n",
    " "
   ]
  },
  {
   "cell_type": "markdown",
   "metadata": {},
   "source": [
    "# 5. Introductory numpy"
   ]
  },
  {
   "cell_type": "markdown",
   "metadata": {},
   "source": [
    "A lot of computations will likely end up using data stored `numpy` arrays. Therefore, it is a good idea to have a feeling for how they are used and manipulated. The following steps will provide some introduction, so that we can build upon this in future labs.\n",
    "\n",
    "You may want to refer to the [official numpy.org absolute beginners guide to numpy](https://numpy.org/devdocs/user/absolute_beginners.html)."
   ]
  },
  {
   "cell_type": "markdown",
   "metadata": {},
   "source": [
    "a) Import the module `numpy`, giving it the shorthand `np`."
   ]
  },
  {
   "cell_type": "code",
   "execution_count": 9,
   "metadata": {},
   "outputs": [],
   "source": [
    "import numpy as np      "
   ]
  },
  {
   "cell_type": "markdown",
   "metadata": {},
   "source": [
    "b) Create the $2 \\times 3$ matrix $A = \\begin{bmatrix}1 & 2 & 3 \\\\ 0 & 0 & 1\\end{bmatrix}$"
   ]
  },
  {
   "cell_type": "code",
   "execution_count": 256,
   "metadata": {},
   "outputs": [
    {
     "name": "stdout",
     "output_type": "stream",
     "text": [
      "[[1 2 3]\n",
      " [0 0 1]]\n"
     ]
    }
   ],
   "source": [
    "A=np.matrix('1 2 3;  0 0 1')\n",
    "print(A)      "
   ]
  },
  {
   "cell_type": "markdown",
   "metadata": {},
   "source": [
    "c) Create the vector $b = \\begin{bmatrix}1\\\\ 2 \\\\ 3 \\end{bmatrix}$"
   ]
  },
  {
   "cell_type": "code",
   "execution_count": 257,
   "metadata": {},
   "outputs": [
    {
     "name": "stdout",
     "output_type": "stream",
     "text": [
      "[[1]\n",
      " [2]\n",
      " [3]]\n"
     ]
    }
   ],
   "source": [
    "b = np.matrix('1; 2; 3')\n",
    "print(b)       "
   ]
  },
  {
   "cell_type": "markdown",
   "metadata": {},
   "source": [
    "d) Perform the multiplication $Ab$. What is the result?"
   ]
  },
  {
   "cell_type": "code",
   "execution_count": 258,
   "metadata": {},
   "outputs": [
    {
     "name": "stdout",
     "output_type": "stream",
     "text": [
      "[[14]\n",
      " [ 3]]\n"
     ]
    }
   ],
   "source": [
    "res = np.dot(A, b)\n",
    "print(res)     "
   ]
  },
  {
   "cell_type": "markdown",
   "metadata": {},
   "source": [
    "e) Mathematically, what should the dimensions of $b^Tb$ be? What should the dimensions of $bb^T$ be?"
   ]
  },
  {
   "cell_type": "code",
   "execution_count": null,
   "metadata": {},
   "outputs": [],
   "source": [
    "\"\"\"\n",
    "    Answer here.\n",
    "     b is a 1*3 matrix, and t(b) is a 3*1 matrix, \n",
    "     thus b*t(b) is a 3*3 matrix  \n",
    "     whilst t(b) * b is a 1*1 matrix \n",
    "     \n",
    "\"\"\""
   ]
  },
  {
   "cell_type": "markdown",
   "metadata": {},
   "source": [
    "f) Compute ```b.T @ b```? ```b @ b.T``` in numpy. How would you go about calculating $bb^T$ (if you wanted to actually store it as a matrix, which is rarely the most space- or time-efficient idea)?"
   ]
  },
  {
   "cell_type": "code",
   "execution_count": 259,
   "metadata": {},
   "outputs": [
    {
     "name": "stdout",
     "output_type": "stream",
     "text": [
      "[[14]]\n",
      "[[1 2 3]\n",
      " [2 4 6]\n",
      " [3 6 9]]\n"
     ]
    }
   ],
   "source": [
    "Tb = np.transpose(b) \n",
    "#print(Tb)\n",
    "result1 = np.dot(Tb, b)\n",
    "print(result1) \n",
    "result2 = np.dot(b, Tb)\n",
    "print(result2)  \n",
    "# the result follows the same pattern, as expected in task e  "
   ]
  },
  {
   "cell_type": "markdown",
   "metadata": {},
   "source": [
    "Note: as `a @ b` is read `a.dot(b)` this should perhaps not be entirely surprising. But it is non-obvious."
   ]
  },
  {
   "cell_type": "markdown",
   "metadata": {},
   "source": [
    "d) Try to solve the equation $Ax = b$ using the `solve` method. Does this make mathematical sense? What does numpy say? Read the error message."
   ]
  },
  {
   "cell_type": "code",
   "execution_count": 260,
   "metadata": {},
   "outputs": [
    {
     "name": "stdout",
     "output_type": "stream",
     "text": [
      "[[1 2 3]\n",
      " [0 0 1]]\n",
      "[1 2 3]\n"
     ]
    },
    {
     "ename": "LinAlgError",
     "evalue": "Last 2 dimensions of the array must be square",
     "output_type": "error",
     "traceback": [
      "\u001b[0;31m---------------------------------------------------------------------------\u001b[0m",
      "\u001b[0;31mLinAlgError\u001b[0m                               Traceback (most recent call last)",
      "\u001b[0;32m<ipython-input-260-3f6a56f3fd3c>\u001b[0m in \u001b[0;36m<module>\u001b[0;34m\u001b[0m\n\u001b[1;32m      4\u001b[0m \u001b[0mb\u001b[0m \u001b[0;34m=\u001b[0m \u001b[0mnp\u001b[0m\u001b[0;34m.\u001b[0m\u001b[0marray\u001b[0m\u001b[0;34m(\u001b[0m\u001b[0;34m[\u001b[0m\u001b[0;36m1\u001b[0m\u001b[0;34m,\u001b[0m \u001b[0;36m2\u001b[0m\u001b[0;34m,\u001b[0m \u001b[0;36m3\u001b[0m\u001b[0;34m]\u001b[0m\u001b[0;34m)\u001b[0m\u001b[0;34m\u001b[0m\u001b[0;34m\u001b[0m\u001b[0m\n\u001b[1;32m      5\u001b[0m \u001b[0mprint\u001b[0m\u001b[0;34m(\u001b[0m\u001b[0mb\u001b[0m\u001b[0;34m)\u001b[0m\u001b[0;34m\u001b[0m\u001b[0;34m\u001b[0m\u001b[0m\n\u001b[0;32m----> 6\u001b[0;31m \u001b[0mx\u001b[0m \u001b[0;34m=\u001b[0m \u001b[0mnp\u001b[0m\u001b[0;34m.\u001b[0m\u001b[0mlinalg\u001b[0m\u001b[0;34m.\u001b[0m\u001b[0msolve\u001b[0m\u001b[0;34m(\u001b[0m\u001b[0mA\u001b[0m\u001b[0;34m,\u001b[0m \u001b[0mb\u001b[0m\u001b[0;34m)\u001b[0m\u001b[0;34m\u001b[0m\u001b[0;34m\u001b[0m\u001b[0m\n\u001b[0m",
      "\u001b[0;32m<__array_function__ internals>\u001b[0m in \u001b[0;36msolve\u001b[0;34m(*args, **kwargs)\u001b[0m\n",
      "\u001b[0;32m~/opt/anaconda3/lib/python3.7/site-packages/numpy/linalg/linalg.py\u001b[0m in \u001b[0;36msolve\u001b[0;34m(a, b)\u001b[0m\n\u001b[1;32m    388\u001b[0m     \u001b[0ma\u001b[0m\u001b[0;34m,\u001b[0m \u001b[0m_\u001b[0m \u001b[0;34m=\u001b[0m \u001b[0m_makearray\u001b[0m\u001b[0;34m(\u001b[0m\u001b[0ma\u001b[0m\u001b[0;34m)\u001b[0m\u001b[0;34m\u001b[0m\u001b[0;34m\u001b[0m\u001b[0m\n\u001b[1;32m    389\u001b[0m     \u001b[0m_assertRankAtLeast2\u001b[0m\u001b[0;34m(\u001b[0m\u001b[0ma\u001b[0m\u001b[0;34m)\u001b[0m\u001b[0;34m\u001b[0m\u001b[0;34m\u001b[0m\u001b[0m\n\u001b[0;32m--> 390\u001b[0;31m     \u001b[0m_assertNdSquareness\u001b[0m\u001b[0;34m(\u001b[0m\u001b[0ma\u001b[0m\u001b[0;34m)\u001b[0m\u001b[0;34m\u001b[0m\u001b[0;34m\u001b[0m\u001b[0m\n\u001b[0m\u001b[1;32m    391\u001b[0m     \u001b[0mb\u001b[0m\u001b[0;34m,\u001b[0m \u001b[0mwrap\u001b[0m \u001b[0;34m=\u001b[0m \u001b[0m_makearray\u001b[0m\u001b[0;34m(\u001b[0m\u001b[0mb\u001b[0m\u001b[0;34m)\u001b[0m\u001b[0;34m\u001b[0m\u001b[0;34m\u001b[0m\u001b[0m\n\u001b[1;32m    392\u001b[0m     \u001b[0mt\u001b[0m\u001b[0;34m,\u001b[0m \u001b[0mresult_t\u001b[0m \u001b[0;34m=\u001b[0m \u001b[0m_commonType\u001b[0m\u001b[0;34m(\u001b[0m\u001b[0ma\u001b[0m\u001b[0;34m,\u001b[0m \u001b[0mb\u001b[0m\u001b[0;34m)\u001b[0m\u001b[0;34m\u001b[0m\u001b[0;34m\u001b[0m\u001b[0m\n",
      "\u001b[0;32m~/opt/anaconda3/lib/python3.7/site-packages/numpy/linalg/linalg.py\u001b[0m in \u001b[0;36m_assertNdSquareness\u001b[0;34m(*arrays)\u001b[0m\n\u001b[1;32m    211\u001b[0m         \u001b[0mm\u001b[0m\u001b[0;34m,\u001b[0m \u001b[0mn\u001b[0m \u001b[0;34m=\u001b[0m \u001b[0ma\u001b[0m\u001b[0;34m.\u001b[0m\u001b[0mshape\u001b[0m\u001b[0;34m[\u001b[0m\u001b[0;34m-\u001b[0m\u001b[0;36m2\u001b[0m\u001b[0;34m:\u001b[0m\u001b[0;34m]\u001b[0m\u001b[0;34m\u001b[0m\u001b[0;34m\u001b[0m\u001b[0m\n\u001b[1;32m    212\u001b[0m         \u001b[0;32mif\u001b[0m \u001b[0mm\u001b[0m \u001b[0;34m!=\u001b[0m \u001b[0mn\u001b[0m\u001b[0;34m:\u001b[0m\u001b[0;34m\u001b[0m\u001b[0;34m\u001b[0m\u001b[0m\n\u001b[0;32m--> 213\u001b[0;31m             \u001b[0;32mraise\u001b[0m \u001b[0mLinAlgError\u001b[0m\u001b[0;34m(\u001b[0m\u001b[0;34m'Last 2 dimensions of the array must be square'\u001b[0m\u001b[0;34m)\u001b[0m\u001b[0;34m\u001b[0m\u001b[0;34m\u001b[0m\u001b[0m\n\u001b[0m\u001b[1;32m    214\u001b[0m \u001b[0;34m\u001b[0m\u001b[0m\n\u001b[1;32m    215\u001b[0m \u001b[0;32mdef\u001b[0m \u001b[0m_assertFinite\u001b[0m\u001b[0;34m(\u001b[0m\u001b[0;34m*\u001b[0m\u001b[0marrays\u001b[0m\u001b[0;34m)\u001b[0m\u001b[0;34m:\u001b[0m\u001b[0;34m\u001b[0m\u001b[0;34m\u001b[0m\u001b[0m\n",
      "\u001b[0;31mLinAlgError\u001b[0m: Last 2 dimensions of the array must be square"
     ]
    }
   ],
   "source": [
    "A = np.array([[1, 2, 3],\n",
    "             [0, 0, 1]])\n",
    "print(A)\n",
    "b = np.array([1, 2, 3])\n",
    "print(b)\n",
    "x = np.linalg.solve(A, b)         "
   ]
  },
  {
   "cell_type": "code",
   "execution_count": 28,
   "metadata": {},
   "outputs": [
    {
     "data": {
      "text/plain": [
       "array([14,  3])"
      ]
     },
     "execution_count": 28,
     "metadata": {},
     "output_type": "execute_result"
    }
   ],
   "source": [
    "\"\"\"\n",
    "    Write your explanation as a code comment.\n",
    "    \n",
    "    This procedure does not make any mathematical sense. \n",
    "    The number of elements in A is 3*2; \n",
    "    the number of elements in b is 3*1\n",
    "    It does not make any sense numerically, since the operation does not have any solution. \n",
    "    \n",
    "    The error message is: LinAlgError: Last 2 dimensions of the array must be square\n",
    "\"\"\""
   ]
  },
  {
   "cell_type": "markdown",
   "metadata": {},
   "source": [
    "e) Try to solve the equation $A^Tx = b$ using numpy. Does this make mathematical sense? What does numpy say?"
   ]
  },
  {
   "cell_type": "code",
   "execution_count": 261,
   "metadata": {},
   "outputs": [
    {
     "name": "stdout",
     "output_type": "stream",
     "text": [
      "[[1 0]\n",
      " [2 0]\n",
      " [3 1]]\n",
      "[[1]\n",
      " [2]\n",
      " [3]]\n"
     ]
    },
    {
     "ename": "LinAlgError",
     "evalue": "Last 2 dimensions of the array must be square",
     "output_type": "error",
     "traceback": [
      "\u001b[0;31m---------------------------------------------------------------------------\u001b[0m",
      "\u001b[0;31mLinAlgError\u001b[0m                               Traceback (most recent call last)",
      "\u001b[0;32m<ipython-input-261-a3d34b0e73bd>\u001b[0m in \u001b[0;36m<module>\u001b[0;34m\u001b[0m\n\u001b[1;32m      4\u001b[0m \u001b[0mprint\u001b[0m\u001b[0;34m(\u001b[0m\u001b[0mAT\u001b[0m\u001b[0;34m)\u001b[0m\u001b[0;34m\u001b[0m\u001b[0;34m\u001b[0m\u001b[0m\n\u001b[1;32m      5\u001b[0m \u001b[0mprint\u001b[0m\u001b[0;34m(\u001b[0m\u001b[0mb\u001b[0m\u001b[0;34m)\u001b[0m\u001b[0;34m\u001b[0m\u001b[0;34m\u001b[0m\u001b[0m\n\u001b[0;32m----> 6\u001b[0;31m \u001b[0mresultat\u001b[0m \u001b[0;34m=\u001b[0m \u001b[0mnp\u001b[0m\u001b[0;34m.\u001b[0m\u001b[0mlinalg\u001b[0m\u001b[0;34m.\u001b[0m\u001b[0msolve\u001b[0m\u001b[0;34m(\u001b[0m\u001b[0mAT\u001b[0m\u001b[0;34m,\u001b[0m \u001b[0mb\u001b[0m\u001b[0;34m)\u001b[0m\u001b[0;34m\u001b[0m\u001b[0;34m\u001b[0m\u001b[0m\n\u001b[0m",
      "\u001b[0;32m<__array_function__ internals>\u001b[0m in \u001b[0;36msolve\u001b[0;34m(*args, **kwargs)\u001b[0m\n",
      "\u001b[0;32m~/opt/anaconda3/lib/python3.7/site-packages/numpy/linalg/linalg.py\u001b[0m in \u001b[0;36msolve\u001b[0;34m(a, b)\u001b[0m\n\u001b[1;32m    388\u001b[0m     \u001b[0ma\u001b[0m\u001b[0;34m,\u001b[0m \u001b[0m_\u001b[0m \u001b[0;34m=\u001b[0m \u001b[0m_makearray\u001b[0m\u001b[0;34m(\u001b[0m\u001b[0ma\u001b[0m\u001b[0;34m)\u001b[0m\u001b[0;34m\u001b[0m\u001b[0;34m\u001b[0m\u001b[0m\n\u001b[1;32m    389\u001b[0m     \u001b[0m_assertRankAtLeast2\u001b[0m\u001b[0;34m(\u001b[0m\u001b[0ma\u001b[0m\u001b[0;34m)\u001b[0m\u001b[0;34m\u001b[0m\u001b[0;34m\u001b[0m\u001b[0m\n\u001b[0;32m--> 390\u001b[0;31m     \u001b[0m_assertNdSquareness\u001b[0m\u001b[0;34m(\u001b[0m\u001b[0ma\u001b[0m\u001b[0;34m)\u001b[0m\u001b[0;34m\u001b[0m\u001b[0;34m\u001b[0m\u001b[0m\n\u001b[0m\u001b[1;32m    391\u001b[0m     \u001b[0mb\u001b[0m\u001b[0;34m,\u001b[0m \u001b[0mwrap\u001b[0m \u001b[0;34m=\u001b[0m \u001b[0m_makearray\u001b[0m\u001b[0;34m(\u001b[0m\u001b[0mb\u001b[0m\u001b[0;34m)\u001b[0m\u001b[0;34m\u001b[0m\u001b[0;34m\u001b[0m\u001b[0m\n\u001b[1;32m    392\u001b[0m     \u001b[0mt\u001b[0m\u001b[0;34m,\u001b[0m \u001b[0mresult_t\u001b[0m \u001b[0;34m=\u001b[0m \u001b[0m_commonType\u001b[0m\u001b[0;34m(\u001b[0m\u001b[0ma\u001b[0m\u001b[0;34m,\u001b[0m \u001b[0mb\u001b[0m\u001b[0;34m)\u001b[0m\u001b[0;34m\u001b[0m\u001b[0;34m\u001b[0m\u001b[0m\n",
      "\u001b[0;32m~/opt/anaconda3/lib/python3.7/site-packages/numpy/linalg/linalg.py\u001b[0m in \u001b[0;36m_assertNdSquareness\u001b[0;34m(*arrays)\u001b[0m\n\u001b[1;32m    211\u001b[0m         \u001b[0mm\u001b[0m\u001b[0;34m,\u001b[0m \u001b[0mn\u001b[0m \u001b[0;34m=\u001b[0m \u001b[0ma\u001b[0m\u001b[0;34m.\u001b[0m\u001b[0mshape\u001b[0m\u001b[0;34m[\u001b[0m\u001b[0;34m-\u001b[0m\u001b[0;36m2\u001b[0m\u001b[0;34m:\u001b[0m\u001b[0;34m]\u001b[0m\u001b[0;34m\u001b[0m\u001b[0;34m\u001b[0m\u001b[0m\n\u001b[1;32m    212\u001b[0m         \u001b[0;32mif\u001b[0m \u001b[0mm\u001b[0m \u001b[0;34m!=\u001b[0m \u001b[0mn\u001b[0m\u001b[0;34m:\u001b[0m\u001b[0;34m\u001b[0m\u001b[0;34m\u001b[0m\u001b[0m\n\u001b[0;32m--> 213\u001b[0;31m             \u001b[0;32mraise\u001b[0m \u001b[0mLinAlgError\u001b[0m\u001b[0;34m(\u001b[0m\u001b[0;34m'Last 2 dimensions of the array must be square'\u001b[0m\u001b[0;34m)\u001b[0m\u001b[0;34m\u001b[0m\u001b[0;34m\u001b[0m\u001b[0m\n\u001b[0m\u001b[1;32m    214\u001b[0m \u001b[0;34m\u001b[0m\u001b[0m\n\u001b[1;32m    215\u001b[0m \u001b[0;32mdef\u001b[0m \u001b[0m_assertFinite\u001b[0m\u001b[0;34m(\u001b[0m\u001b[0;34m*\u001b[0m\u001b[0marrays\u001b[0m\u001b[0;34m)\u001b[0m\u001b[0;34m:\u001b[0m\u001b[0;34m\u001b[0m\u001b[0;34m\u001b[0m\u001b[0m\n",
      "\u001b[0;31mLinAlgError\u001b[0m: Last 2 dimensions of the array must be square"
     ]
    }
   ],
   "source": [
    "A = np.matrix('1 2 3;  0 0 1')\n",
    "b = np.matrix('1; 2; 3')\n",
    "AT = np.transpose(A) \n",
    "print(AT)\n",
    "print(b)\n",
    "resultat = np.linalg.solve(AT, b)        "
   ]
  },
  {
   "cell_type": "code",
   "execution_count": 62,
   "metadata": {},
   "outputs": [
    {
     "data": {
      "text/plain": [
       "\"\\n    Write your explanation as a comment here.\\n    Again, it does not make any sense, according to numpy, which is outlandish \\n    \\n    The dimension of the transpose of A is a 2*3 matrix \\n    The dimension of b is a 3*1 column vector. \\n    \\n    When calculating by hand, there is a solution, which is a column vector [1, 0]' \\n    For this reason, a different numerical algorithm is needed for this task. \\n\""
      ]
     },
     "execution_count": 62,
     "metadata": {},
     "output_type": "execute_result"
    }
   ],
   "source": [
    "\"\"\"\n",
    "    Write your explanation as a comment here.\n",
    "    Again, it does not make any sense, according to numpy, which is outlandish \n",
    "    \n",
    "    The dimension of the transpose of A is a 2*3 matrix \n",
    "    The dimension of b is a 3*1 column vector. \n",
    "    \n",
    "    When calculating by hand, there is a solution, which is a column vector [1, 0]'\n",
    "    The comment from the numerical calculation is not by any means of bona fide statement. \n",
    "    For this reason, a different numerical algorithm is needed for this task. \n",
    "\"\"\""
   ]
  },
  {
   "cell_type": "markdown",
   "metadata": {},
   "source": [
    "f) One of the two tasks above make sense from a mathematical point of view. Find a best solution $x$ in the least squares sense."
   ]
  },
  {
   "cell_type": "code",
   "execution_count": 262,
   "metadata": {},
   "outputs": [
    {
     "name": "stdout",
     "output_type": "stream",
     "text": [
      "[[ 1  2  3]\n",
      " [ 2  4  6]\n",
      " [ 3  6 10]]\n",
      "[[1.00000000e+00]\n",
      " [1.78031751e-16]]\n"
     ]
    }
   ],
   "source": [
    "import numpy as np \n",
    "\n",
    "A = np.matrix('1 2 3;  0 0 1')\n",
    "b = np.matrix('1; 2; 3')\n",
    "\n",
    "\n",
    "# The solution for A^T * x =b, which is the only solution, since b is a 1*3 column vector \n",
    "AT= np.transpose(A)  \n",
    "led1 = np.linalg.inv(np.dot(A, AT)) \n",
    "led2 = np.dot(led1, A)  \n",
    "led3 = np.dot(led2, b)\n",
    "x1= led3\n",
    "\n",
    "# the solution for A*x=b , there is no solution, the dimensions do not agree with each other\n",
    "led11= np.dot(AT, A)\n",
    "print(led11)  \n",
    "\n",
    "# using a numpy method to find a solution: Return the least-squares solution to a linear matrix equation.\n",
    "x = np.linalg.lstsq(AT, b, rcond=None)[0]  \n",
    "print(x) \n",
    "\n",
    "# The obtained answer from this round of calculation agrees well with the hand calculated results.  "
   ]
  },
  {
   "cell_type": "markdown",
   "metadata": {},
   "source": [
    "g) Is the resulting $Ax$ or $A^Tx$ (depending on your choice above) close to $b$? What is the norm-2-distance between the vectors?"
   ]
  },
  {
   "cell_type": "code",
   "execution_count": 263,
   "metadata": {},
   "outputs": [
    {
     "name": "stdout",
     "output_type": "stream",
     "text": [
      "[[1.]\n",
      " [2.]\n",
      " [3.]]\n"
     ]
    },
    {
     "data": {
      "text/plain": [
       "matrix([[2.01291304e-31]])"
      ]
     },
     "execution_count": 263,
     "metadata": {},
     "output_type": "execute_result"
    }
   ],
   "source": [
    "# to calculate the product separately: \n",
    "# the product of Ax \n",
    "Atx= np.dot(AT, led3)\n",
    "print(Atx)  \n",
    "\n",
    "# The norm 2 distance is zero, since the results agree perfectly with each other.   \n",
    "dist_current = b-np.dot(AT, x)\n",
    "np.linalg.norm(dist_current)  \n",
    "\n",
    "# the procedure has altered completely, using a numpy function, rather a home carpenting method. \n",
    "# the magnitude of the norm 2 distance goes to zero. \n",
    "# https://het.as.utexas.edu/HET/Software/Numpy/reference/generated/numpy.linalg.lstsq.html\n",
    "\n",
    "x,residuals,rank,s = np.linalg.lstsq(AT, b, rcond=None) \n",
    "residuals     "
   ]
  },
  {
   "cell_type": "markdown",
   "metadata": {},
   "source": [
    "Just to get some practice, run the following to get some test data:"
   ]
  },
  {
   "cell_type": "code",
   "execution_count": 264,
   "metadata": {},
   "outputs": [
    {
     "name": "stdout",
     "output_type": "stream",
     "text": [
      "{'data': array([[   8.3252    ,   41.        ,    6.98412698, ...,    2.55555556,\n",
      "          37.88      , -122.23      ],\n",
      "       [   8.3014    ,   21.        ,    6.23813708, ...,    2.10984183,\n",
      "          37.86      , -122.22      ],\n",
      "       [   7.2574    ,   52.        ,    8.28813559, ...,    2.80225989,\n",
      "          37.85      , -122.24      ],\n",
      "       ...,\n",
      "       [   1.7       ,   17.        ,    5.20554273, ...,    2.3256351 ,\n",
      "          39.43      , -121.22      ],\n",
      "       [   1.8672    ,   18.        ,    5.32951289, ...,    2.12320917,\n",
      "          39.43      , -121.32      ],\n",
      "       [   2.3886    ,   16.        ,    5.25471698, ...,    2.61698113,\n",
      "          39.37      , -121.24      ]]), 'target': array([4.526, 3.585, 3.521, ..., 0.923, 0.847, 0.894]), 'feature_names': ['MedInc', 'HouseAge', 'AveRooms', 'AveBedrms', 'Population', 'AveOccup', 'Latitude', 'Longitude'], 'DESCR': '.. _california_housing_dataset:\\n\\nCalifornia Housing dataset\\n--------------------------\\n\\n**Data Set Characteristics:**\\n\\n    :Number of Instances: 20640\\n\\n    :Number of Attributes: 8 numeric, predictive attributes and the target\\n\\n    :Attribute Information:\\n        - MedInc        median income in block\\n        - HouseAge      median house age in block\\n        - AveRooms      average number of rooms\\n        - AveBedrms     average number of bedrooms\\n        - Population    block population\\n        - AveOccup      average house occupancy\\n        - Latitude      house block latitude\\n        - Longitude     house block longitude\\n\\n    :Missing Attribute Values: None\\n\\nThis dataset was obtained from the StatLib repository.\\nhttp://lib.stat.cmu.edu/datasets/\\n\\nThe target variable is the median house value for California districts.\\n\\nThis dataset was derived from the 1990 U.S. census, using one row per census\\nblock group. A block group is the smallest geographical unit for which the U.S.\\nCensus Bureau publishes sample data (a block group typically has a population\\nof 600 to 3,000 people).\\n\\nIt can be downloaded/loaded using the\\n:func:`sklearn.datasets.fetch_california_housing` function.\\n\\n.. topic:: References\\n\\n    - Pace, R. Kelley and Ronald Barry, Sparse Spatial Autoregressions,\\n      Statistics and Probability Letters, 33 (1997) 291-297\\n'}\n"
     ]
    }
   ],
   "source": [
    "import sklearn\n",
    "# https://scikit-learn.org/stable/modules/classes.html?highlight=datasets#module-sklearn.datasets\n",
    "# This package contains the methods to load and fetch popular reference datasets. \n",
    "# It also features some artificial data generators\n",
    "import sklearn.datasets as ds\n",
    "# https://scikit-learn.org/stable/modules/generated/sklearn.datasets.fetch_california_housing.html#sklearn.datasets.fetch_california_housing\n",
    "houses = ds.fetch_california_housing()\n",
    "print(houses)      "
   ]
  },
  {
   "cell_type": "markdown",
   "metadata": {},
   "source": [
    "h) How many rows does the dataset have? Columns? Find out using numpy. (First check what `houses` actually is)"
   ]
  },
  {
   "cell_type": "code",
   "execution_count": 265,
   "metadata": {},
   "outputs": [
    {
     "name": "stdout",
     "output_type": "stream",
     "text": [
      "the total number of elements 165120\n",
      "the number of rows is:  20640\n",
      "the number of columns is 8\n"
     ]
    }
   ],
   "source": [
    "storlek =np.size(houses.data) \n",
    "print(\"the total number of elements\", storlek) # antal element \n",
    "\n",
    "dimensioner = houses.data.shape\n",
    "print(\"the number of rows is: \", dimensioner[0]) \n",
    "print(\"the number of columns is\", dimensioner[1])   "
   ]
  },
  {
   "cell_type": "markdown",
   "metadata": {},
   "source": [
    "i) Get the third column (remember: indexing starts at zero, so column number 2) of the dataset by indexing/slicing."
   ]
  },
  {
   "cell_type": "code",
   "execution_count": 266,
   "metadata": {},
   "outputs": [
    {
     "data": {
      "text/plain": [
       "array([6.98412698, 6.23813708, 8.28813559, ..., 5.20554273, 5.32951289,\n",
       "       5.25471698])"
      ]
     },
     "execution_count": 266,
     "metadata": {},
     "output_type": "execute_result"
    }
   ],
   "source": [
    "houses.data[:,2]   "
   ]
  },
  {
   "cell_type": "markdown",
   "metadata": {},
   "source": [
    "j) Get the values of the third, fourth and hundredrth rows (that is, index 2, 3, 99)."
   ]
  },
  {
   "cell_type": "code",
   "execution_count": 37,
   "metadata": {},
   "outputs": [
    {
     "data": {
      "text/plain": [
       "array([[ 7.25740000e+00,  5.20000000e+01,  8.28813559e+00,\n",
       "         1.07344633e+00,  4.96000000e+02,  2.80225989e+00,\n",
       "         3.78500000e+01, -1.22240000e+02],\n",
       "       [ 5.64310000e+00,  5.20000000e+01,  5.81735160e+00,\n",
       "         1.07305936e+00,  5.58000000e+02,  2.54794521e+00,\n",
       "         3.78500000e+01, -1.22250000e+02],\n",
       "       [ 2.61040000e+00,  3.70000000e+01,  3.70714286e+00,\n",
       "         1.10714286e+00,  1.83800000e+03,  1.87551020e+00,\n",
       "         3.78200000e+01, -1.22260000e+02]])"
      ]
     },
     "execution_count": 37,
     "metadata": {},
     "output_type": "execute_result"
    }
   ],
   "source": [
    "houses.data[(2,3,99),:]  "
   ]
  },
  {
   "cell_type": "markdown",
   "metadata": {},
   "source": [
    "k) Mathematical sanity check: without actually computing the rank of ```houses.data```, can you provide a bound? Could it have $10^{15}$ linearly independent rows? 2000? Etc. Write down the tightest bound you can find, and explain why briefly.\n",
    "\n",
    "Anders' comment upon this task: Can you provide as good a bound as you can without performing any computations then? It might not be a very tight bound, but there is something you can say."
   ]
  },
  {
   "cell_type": "code",
   "execution_count": 267,
   "metadata": {},
   "outputs": [
    {
     "name": "stdout",
     "output_type": "stream",
     "text": [
      "The tightest bound is 8\n",
      "20640\n",
      "8\n"
     ]
    }
   ],
   "source": [
    "# You may want to look at some properties of the matrix here.\n",
    "# \"The rank of a matrix is defined as (a) the maximum number of linearly independent column vectors in the matrix or (b) the maximum number of linearly independent row vectors in the matrix.\"\n",
    "\n",
    "# The tighest bound depends upon the dimension of the matrix, the number of linearly independent rows and columns \n",
    "\n",
    "tight_bound = min(houses.data.shape[0], houses.data.shape[1]) \n",
    "print(\"The tightest bound is\" , tight_bound)   \n",
    "print(houses.data.shape[0])\n",
    "print(houses.data.shape[1])  \n",
    "\n",
    "# The print has shown that the tightest bound is the number of independent row vectors. \n"
   ]
  },
  {
   "cell_type": "markdown",
   "metadata": {},
   "source": [
    "l) Find out the actual rank of the matrix using numpy. "
   ]
  },
  {
   "cell_type": "code",
   "execution_count": 268,
   "metadata": {},
   "outputs": [
    {
     "name": "stdout",
     "output_type": "stream",
     "text": [
      "The actual rank of the matrix is 8\n"
     ]
    }
   ],
   "source": [
    "from numpy.linalg import  matrix_rank\n",
    "print(\"The actual rank of the matrix is\", matrix_rank(houses.data))    "
   ]
  },
  {
   "cell_type": "markdown",
   "metadata": {},
   "source": [
    "# 6. A simple classifier"
   ]
  },
  {
   "cell_type": "markdown",
   "metadata": {},
   "source": [
    "Our goal in this section is to build a naïve subspace-projection based classifier which takes a numerical vector and produces a label. We will build this from the ground up (there are many libraries that perform this automatically, but may not use them in this case).\n",
    "\n",
    "We will first practice our numpy (and linear algebra) skills to build the algorithm, and then encapsulate data and methods in a class. We will be taking a slightly different route than more general SVD methods for finding principal components, simply because this is not our task. This is worth remembering if you find material on the subject!\n",
    "\n",
    "The main idea here is to pick out all the data corresponding to a certain set of vectors, and reduce this matrix to some rank $\\leq k$ matrix which is a good approximation of the row space in some sense (here: the sense that the vectors correspond to maximal singular values). A naïve classification is then given by picking the subspace which is closest by orthogonal projection."
   ]
  },
  {
   "cell_type": "markdown",
   "metadata": {},
   "source": [
    "## The dataset"
   ]
  },
  {
   "cell_type": "markdown",
   "metadata": {},
   "source": [
    "First, we will import some data. Here we use the classic MNIST data set of handwritten digits. We can naturally partition the sets of vectors used for training and validation in many ways. Feel free to experiment with a nicer (possibly non-deterministic) version later. This is only to get us started, and to have a set of data with known properties (which is helpful for lab assistants)."
   ]
  },
  {
   "cell_type": "code",
   "execution_count": 1,
   "metadata": {},
   "outputs": [
    {
     "name": "stdout",
     "output_type": "stream",
     "text": [
      "[[ 0.  0.  5. ...  0.  0.  0.]\n",
      " [ 0.  0.  0. ... 10.  0.  0.]\n",
      " [ 0.  0.  0. ... 16.  9.  0.]\n",
      " ...\n",
      " [ 0.  0.  6. ...  0.  0.  0.]\n",
      " [ 0.  0.  0. ... 12.  0.  0.]\n",
      " [ 0.  0.  1. ... 16. 16.  8.]]\n",
      "[0 1 2 3 4 5 6 7 8 9 0 1 2 3 4 5 6 7 8 9 0 1 2 3 4 5 6 7 8 9 0 9 5 5 6 5 0\n",
      " 9 8 9 8 4 1 7 7 3 5 1 0 0 2 2 7 8 2 0 1 2 6 3 3 7 3 3 4 6 6 6 4 9 1 5 0 9\n",
      " 5 2 8 2 0 0 1 7 6 3 2 1 7 4 6 3 1 3 9 1 7 6 8 4 3 1 4 0 5 3 6 9 6 1 7 5 4\n",
      " 4 7 2 8 2 2 5 7 9 5 4 8 8 4 9 0 8 9 8 0 1 2 3 4 5 6 7 8 9 0 1 2 3 4 5 6 7\n",
      " 8 9 0 1 2 3 4 5 6 7 8 9 0 9 5 5 6 5 0 9 8 9 8 4 1 7 7 3 5 1 0 0 2 2 7 8 2\n",
      " 0 1 2 6 3 3 7 3 3 4 6 6 6 4 9 1 5 0 9 5 2 8 2 0 0 1 7 6 3 2 1 7 3 1 3 9 1\n",
      " 7 6 8 4 3 1 4 0 5 3 6 9 6 1 7 5 4 4 7 2 8 2 2 5 5 4 8 8 4 9 0 8 9 8 0 1 2\n",
      " 3 4 5 6 7 8 9 0 1 2 3 4 5 6 7 8 9 0 1 2 3 4 5 6 7 8 9 0 9 5 5 6 5 0 9 8 9\n",
      " 8 4 1 7 7 3 5 1 0 0 2 2 7 8 2 0 1 2 6 3 3 7 3 3 4 6 6 6 4 9 1 5 0 9 5 2 8\n",
      " 2 0 0 1 7 6 3 2 1 7 4 6 3 1 3 9 1 7 6 8 4 3 1 4 0 5 3 6 9 6 1 7 5 4 4 7 2\n",
      " 8 2 2 5 7 9 5 4 8 8 4 9 0 8 9 3 0 1 2 3 4 5 6 7 8 9 0 1 2 3 4 5 6 7 8 9 0\n",
      " 1 2 3 4 5 6 7 8 9 0 9 5 5 6 5 0 9 8 9 8 4 1 7 7 3 5 1 0 0 2 2 7 8 2 0 1 2\n",
      " 6 3 3 7 3 3 4 6 6 6 4 9 1 5 0 9 5 2 8 2 0 0 1 7 6 3 2 1 7 4 6 3 1 3 9 1 7\n",
      " 6 8 4 3 1 4 0 5 3 6 9 6 1 7 5 4 4 7 2 8 2 2 5 7 9 5 4 8 8 4 9 0 8 9 8 0 1\n",
      " 2 3 4 5 6 7 8 9 0 1 2 3 4 5 6 7 8 9 0 1 2 3 4 5 6 7 8 9 0 9 5 5 6 5 0 9 8\n",
      " 9 8 4 1 7 7 3 5 1 0 0 2 2 7 8 2 0 1 2 6 3 3 7 3 3 4 6 6 6 4 9 1 5 0 9 5 2\n",
      " 8 2 0 0 1 7 6 3]\n",
      "(600, 64)\n",
      "(600,)\n"
     ]
    }
   ],
   "source": [
    "import sklearn.datasets as ds\n",
    "import numpy as np    \n",
    "\n",
    "digits = ds.load_digits()\n",
    "training_digits = digits.data[0:600, :]\n",
    "training_labels = digits.target[0:600]\n",
    "\n",
    "# The set of labels can be found in digits.target_names.\n",
    "print(training_digits)\n",
    "print(training_labels)  \n",
    "\n",
    "# to obtain its dimension: \n",
    "print(training_digits.shape)  \n",
    "print(training_labels.shape)          "
   ]
  },
  {
   "cell_type": "markdown",
   "metadata": {},
   "source": [
    "If we are curious, we can view the images from the dataset."
   ]
  },
  {
   "cell_type": "code",
   "execution_count": 2,
   "metadata": {},
   "outputs": [
    {
     "data": {
      "text/plain": [
       "Text(0.5, 0, 'Index: 5, actually the number 5')"
      ]
     },
     "execution_count": 2,
     "metadata": {},
     "output_type": "execute_result"
    },
    {
     "data": {
      "image/png": "[encoded data removed]",
      "text/plain": [
       "<Figure size 432x288 with 1 Axes>"
      ]
     },
     "metadata": {
      "needs_background": "light"
     },
     "output_type": "display_data"
    }
   ],
   "source": [
    "%matplotlib inline\n",
    "from matplotlib import pyplot as plt \n",
    "# We show one of the digits.\n",
    "d_index = 5 \n",
    "plt.imshow(training_digits[d_index].reshape(8,8))\n",
    "plt.xlabel(f\"Index: {d_index}, actually the number {training_labels[d_index]}\")  \n",
    "# Note: digits.images[i] is the same as digits.data[i], but in 8x8 format (no need to reshape).\n",
    "# We would however like to stress that the 64 pixel images we'll be working with are stored in vector format.     "
   ]
  },
  {
   "cell_type": "markdown",
   "metadata": {},
   "source": [
    "## Tasks"
   ]
  },
  {
   "cell_type": "markdown",
   "metadata": {},
   "source": [
    "a) Get all rows with label 4. Store that in the matrix $A_4$. Similarly for $A_9$. This should be two single lines of code!"
   ]
  },
  {
   "cell_type": "code",
   "execution_count": 3,
   "metadata": {},
   "outputs": [
    {
     "name": "stdout",
     "output_type": "stream",
     "text": [
      "[[0. 0. 0. ... 4. 0. 0.]\n",
      " [0. 0. 0. ... 4. 0. 0.]\n",
      " [0. 0. 0. ... 8. 0. 0.]\n",
      " ...\n",
      " [0. 0. 0. ... 0. 0. 0.]\n",
      " [0. 0. 0. ... 0. 0. 0.]\n",
      " [0. 0. 3. ... 0. 0. 0.]]\n",
      "[[ 0.  0. 11. ...  3.  0.  0.]\n",
      " [ 0.  0.  6. ... 13. 11.  1.]\n",
      " [ 0.  0.  9. ... 12. 11.  0.]\n",
      " ...\n",
      " [ 0.  0.  2. ... 16.  6.  0.]\n",
      " [ 0.  0.  1. ...  7.  0.  0.]\n",
      " [ 0.  0.  6. ... 12.  0.  0.]]\n",
      "(57, 64)\n",
      "(59, 64)\n"
     ]
    }
   ],
   "source": [
    "ll = len(training_labels)\n",
    "\n",
    "# a4 = digits.data[[index for index in range(0,ll) if training_labels[index]==4 ], :] \n",
    "# revision, the standard numpy method has been utilised in the second attempt\n",
    "a4 = digits.data[np.where(training_labels == 4)]\n",
    "print(a4) # Replace with your code. \n",
    "# a9 =digits.data[[index for index in range(0,ll) if training_labels[index]==9 ], :]\n",
    "# again, a standard numpy method has been used in the second attempt\n",
    "a9 = digits.data[np.where(training_labels == 9)]\n",
    "print(a9) # Replace with your code.  \n",
    " \n",
    "# Both matrice have the same dimensions \n",
    "print(a4.shape)   \n",
    "print(a9.shape)            "
   ]
  },
  {
   "cell_type": "markdown",
   "metadata": {},
   "source": [
    "b) Compute the thin SVD $A_4 = U_4\\Sigma_4 V^T_4$ and similarly for $A_9$. Thin here means that you do not necessarily get the full-rank square $U,V^T$ matrices."
   ]
  },
  {
   "cell_type": "code",
   "execution_count": 4,
   "metadata": {},
   "outputs": [
    {
     "name": "stdout",
     "output_type": "stream",
     "text": [
      "[[ 0.00000000e+00  0.00000000e+00 -5.74647651e-03 ... -3.06660420e-02\n",
      "   0.00000000e+00  0.00000000e+00]\n",
      " [ 1.66533454e-16  0.00000000e+00  3.12734640e-02 ... -8.26760534e-02\n",
      "   0.00000000e+00  0.00000000e+00]\n",
      " [-1.66533454e-16  0.00000000e+00  2.33459622e-02 ... -1.40747976e-01\n",
      "   0.00000000e+00  0.00000000e+00]\n",
      " ...\n",
      " [ 1.06705906e-02  5.16365368e-03  2.82693561e-16 ...  1.10046521e-16\n",
      "   0.00000000e+00  0.00000000e+00]\n",
      " [ 7.61135392e-03 -4.30445515e-04 -3.77679665e-16 ... -8.13964781e-17\n",
      "   0.00000000e+00  0.00000000e+00]\n",
      " [-6.45991785e-03  3.39168401e-03  2.40344031e-16 ...  4.42354486e-17\n",
      "   0.00000000e+00  0.00000000e+00]]\n",
      "[[-3.33066907e-16 -9.48133775e-04 -9.38773173e-02 ... -1.55675601e-01\n",
      "  -3.63006343e-02 -7.62423630e-04]\n",
      " [-1.80411242e-16  2.64096177e-03  8.53393857e-02 ...  2.41756206e-01\n",
      "   1.08817123e-01  5.33215327e-03]\n",
      " [-5.06539255e-16 -1.01020764e-03 -4.59422314e-02 ...  2.15155300e-01\n",
      "   2.93294904e-02 -4.77935085e-03]\n",
      " ...\n",
      " [-1.06609107e-03 -2.83884109e-15  5.76516814e-16 ...  2.90566182e-17\n",
      "  -4.77591057e-16 -6.34095641e-16]\n",
      " [ 2.65469125e-02  7.69214336e-16  4.13684600e-16 ... -4.16333634e-17\n",
      "   3.40873163e-16 -2.37570380e-15]\n",
      " [-1.52818714e-02 -1.00033913e-15  8.22589134e-17 ... -6.07153217e-17\n",
      "  -1.24032729e-16  1.49663268e-15]]\n"
     ]
    }
   ],
   "source": [
    "# the calculation of Singular Value Decomposition, by using a standard numpy function.\n",
    "u4, s4, vh4 = np.linalg.svd(a4, full_matrices=False)\n",
    "print(vh4)\n",
    "u9, s9, vh9 = np.linalg.svd(a9, full_matrices=False)\n",
    "print(vh9)          "
   ]
  },
  {
   "cell_type": "markdown",
   "metadata": {},
   "source": [
    "**Note** Our data is stored by row (one row per digit). What we use the different matrices in the decomposition for is thus slightly different than if it was stored by column. Instead of picking the best $k$ columns of $U$ we pick the best $k$ rows of $V^T$."
   ]
  },
  {
   "cell_type": "markdown",
   "metadata": {},
   "source": [
    "c) Let $sample4$ be the first row of $A_4$ and $sample9$ be the first row of $A_9$."
   ]
  },
  {
   "cell_type": "code",
   "execution_count": 5,
   "metadata": {},
   "outputs": [
    {
     "name": "stdout",
     "output_type": "stream",
     "text": [
      "dimension of a4 is  (57, 64)\n",
      "[ 0.  0.  0.  1. 11.  0.  0.  0.  0.  0.  0.  7.  8.  0.  0.  0.  0.  0.\n",
      "  1. 13.  6.  2.  2.  0.  0.  0.  7. 15.  0.  9.  8.  0.  0.  5. 16. 10.\n",
      "  0. 16.  6.  0.  0.  4. 15. 16. 13. 16.  1.  0.  0.  0.  0.  3. 15. 10.\n",
      "  0.  0.  0.  0.  0.  2. 16.  4.  0.  0.]\n",
      "dimension of a9 is  (59, 64)\n",
      "[ 0.  0. 11. 12.  0.  0.  0.  0.  0.  2. 16. 16. 16. 13.  0.  0.  0.  3.\n",
      " 16. 12. 10. 14.  0.  0.  0.  1. 16.  1. 12. 15.  0.  0.  0.  0. 13. 16.\n",
      "  9. 15.  2.  0.  0.  0.  0.  3.  0.  9. 11.  0.  0.  0.  0.  0.  9. 15.\n",
      "  4.  0.  0.  0.  9. 12. 13.  3.  0.  0.]\n"
     ]
    }
   ],
   "source": [
    "print('dimension of a4 is ', a4.shape) \n",
    "# each of which has 57 rows of data \n",
    "𝑠𝑎𝑚𝑝𝑙𝑒4=a4[0] \n",
    "print(𝑠𝑎𝑚𝑝𝑙𝑒4)\n",
    "\n",
    "print('dimension of a9 is ', a9.shape)\n",
    "# each of which has 59 rows of data \n",
    "𝑠𝑎𝑚𝑝𝑙𝑒9=a9[0]\n",
    "print(𝑠𝑎𝑚𝑝𝑙𝑒9)              "
   ]
  },
  {
   "cell_type": "markdown",
   "metadata": {},
   "source": [
    "d) Let $R$ be the first 3 rows of $V^T$. Compute the orthogonal projection of $sample4$ onto the row space of $R_4$, and onto the row space of $R_9$"
   ]
  },
  {
   "cell_type": "code",
   "execution_count": 6,
   "metadata": {},
   "outputs": [
    {
     "name": "stdout",
     "output_type": "stream",
     "text": [
      "Norm one is 19.75899698363074\n",
      "Norm two is 29.93786823269643\n"
     ]
    }
   ],
   "source": [
    "from numpy import linalg as LA\n",
    "# Your code here.\n",
    "# the first index is the zeroth index in python\n",
    "R4 = vh4[[0,1,2],:]\n",
    "\n",
    "# Your code here\n",
    "R9 = vh9[[0,1,2],:] \n",
    "\n",
    "frac4 = R4@sample4\n",
    "frac9 = R9@sample9  \n",
    "    \n",
    "coeffs_in_r4 = frac4@R4 # What are the coordinates of sample4 orthogonally projected onto R4?\n",
    "\n",
    "coeffs_in_r9 = frac9@R9    \n",
    "\n",
    "# https://docs.scipy.org/doc/numpy/reference/generated/numpy.linalg.norm.html \n",
    "sample4_in_r4 = np.linalg.norm(coeffs_in_r4-sample4)  \n",
    "sample9_in_r9 = np.linalg.norm(coeffs_in_r9-sample9) \n",
    "print(\"Norm one is\", sample4_in_r4) \n",
    "print(\"Norm two is\", sample9_in_r9)        \n",
    "\n",
    "# in this step, the previous steps are gone, instead, the numpy functions have been used, \n",
    "# to calculate the orthogonal projection.     "
   ]
  },
  {
   "cell_type": "markdown",
   "metadata": {},
   "source": [
    "[Mathematical aside: where did the $\\Sigma$ go? This is a very important matrix, and strongly affects both interpretations and (in general) row- and column spaces. *Assuming* that the rank is $\\geq 3$ the row spaces should be the same whether or not we scale the basis vectors by some $\\sigma_i$ (since $\\sigma_i > 0$ for all $i=1,2,\\ldots, r$). That is enough for our application, though the interpretations of the vectors might be different. The rank assumption is rather important, and we will make rather casually based on knowledge about the data set. Later, we'll include a check for this in our code.]"
   ]
  },
  {
   "cell_type": "markdown",
   "metadata": {},
   "source": [
    "e) Which of the projections is closest to sample4 (in the sense that the difference (sample4_in_z**?**t - sample4) as the smallest 2-norm?"
   ]
  },
  {
   "cell_type": "code",
   "execution_count": 7,
   "metadata": {},
   "outputs": [
    {
     "name": "stdout",
     "output_type": "stream",
     "text": [
      "the difference amongst all values [4.71042574e-16 0.00000000e+00 4.23037607e-01 2.22908477e-01\n",
      " 1.94945372e+00 2.30120798e+00 0.00000000e+00 0.00000000e+00\n",
      " 1.56213431e-18 5.85463554e-02 1.17560185e+00 1.81141386e+00\n",
      " 5.52525849e+00 1.92979168e+00 4.47876351e-02 0.00000000e+00\n",
      " 2.28036908e-29 4.15054965e-01 2.77475664e+00 1.67507345e+00\n",
      " 7.29944793e-01 2.83187895e+00 5.63504103e-01 4.88862904e-03\n",
      " 1.09022381e-02 1.14899039e+00 4.40586622e+00 6.23809166e+00\n",
      " 3.01911869e+00 2.30125141e+00 4.08266723e+00 0.00000000e+00\n",
      " 0.00000000e+00 4.36172868e-01 2.19225871e+00 1.50611840e+00\n",
      " 9.55037105e+00 2.84801069e+00 2.09336004e+00 0.00000000e+00\n",
      " 0.00000000e+00 2.15201479e+00 7.05287031e+00 5.97451344e+00\n",
      " 1.17761530e+00 2.53962292e+00 1.02180464e+00 0.00000000e+00\n",
      " 0.00000000e+00 1.46057793e-01 3.43397894e-01 3.10089924e+00\n",
      " 1.08707237e+00 2.45113883e+00 4.37315640e-02 0.00000000e+00\n",
      " 0.00000000e+00 0.00000000e+00 8.04706461e-01 1.46731051e+00\n",
      " 1.41658798e+00 4.78699073e-01 0.00000000e+00 0.00000000e+00]\n",
      "magnitude of a specific distance 0.0\n",
      "Comprehension method [1, 6, 7, 15, 31, 32, 39, 40, 47, 48, 55, 56, 57, 62, 63]\n",
      "the obtained indice, using np.where is [ 1  6  7 15 31 32 39 40 47 48 55 56 57 62 63]\n"
     ]
    }
   ],
   "source": [
    "diff_sample4 = abs(sample4 - coeffs_in_r4) \n",
    "print(\"the difference amongst all values\", diff_sample4) \n",
    "\n",
    "ref_diff = min(diff_sample4) \n",
    "ld = len(diff_sample4) \n",
    "print(\"magnitude of a specific distance\", ref_diff) \n",
    "\n",
    "# to investigate which indice corresponds to ref_diff, using for comprehension \n",
    "indice = [ind for ind in range (0, ld) if diff_sample4[ind] == ref_diff] \n",
    "print(\"Comprehension method\", indice)\n",
    "# to use a standard numpy function\n",
    "# https://docs.scipy.org/doc/numpy/reference/generated/numpy.where.html\n",
    "indice_attempt2 = np.where(diff_sample4 == ref_diff)[0]      \n",
    "# the printed value are identical, therefore the obtained indice are sufficiently reliable  \n",
    "print(\"the obtained indice, using np.where is\", indice_attempt2)  \n",
    " \n",
    "# both methods leads to the same results, the second is a much more memory efficient method, however.    "
   ]
  },
  {
   "cell_type": "markdown",
   "metadata": {},
   "source": [
    "f) Create a function `split_data(data, data_labels, labels)` which takes a matrix of data (such as `training_data`), the labels of all rows (such as `training_labels`) and a vector of the labels (here the numbers 0,...,9) and returns a dictionary mapping a label to the matrix of all corresponding data. \n",
    "\n",
    "Here the dictionary would for instance have the key 2, and the corresponding value be the matrix of all the images in `data` classified as the number 2."
   ]
  },
  {
   "cell_type": "code",
   "execution_count": 8,
   "metadata": {},
   "outputs": [
    {
     "name": "stdout",
     "output_type": "stream",
     "text": [
      "the first test, 0 - 9:  {0: array([[0., 0., 5., ..., 0., 0., 0.],\n",
      "       [0., 0., 1., ..., 3., 0., 0.],\n",
      "       [0., 0., 3., ..., 4., 0., 0.],\n",
      "       ...,\n",
      "       [0., 0., 0., ..., 3., 0., 0.],\n",
      "       [0., 0., 2., ..., 1., 0., 0.],\n",
      "       [0., 0., 1., ..., 7., 0., 0.]]), 1: array([[ 0.,  0.,  0., ..., 10.,  0.,  0.],\n",
      "       [ 0.,  0.,  0., ..., 16.,  1.,  0.],\n",
      "       [ 0.,  0.,  0., ..., 15.,  4.,  0.],\n",
      "       ...,\n",
      "       [ 0.,  0., 10., ..., 16., 16., 11.],\n",
      "       [ 0.,  0.,  3., ..., 16., 15., 11.],\n",
      "       [ 0.,  0.,  5., ..., 16., 11.,  2.]]), 2: array([[ 0.,  0.,  0., ..., 16.,  9.,  0.],\n",
      "       [ 0.,  0.,  5., ..., 13., 12.,  4.],\n",
      "       [ 0.,  0.,  8., ..., 12., 13.,  1.],\n",
      "       ...,\n",
      "       [ 0.,  0.,  3., ..., 12., 14.,  7.],\n",
      "       [ 0.,  0.,  7., ..., 12., 12., 11.],\n",
      "       [ 0.,  0.,  9., ..., 16., 16.,  3.]]), 3: array([[ 0.,  0.,  7., ...,  9.,  0.,  0.],\n",
      "       [ 0.,  2.,  9., ..., 11.,  0.,  0.],\n",
      "       [ 0.,  1.,  8., ...,  2.,  0.,  0.],\n",
      "       ...,\n",
      "       [ 0.,  0.,  0., ..., 16., 11.,  0.],\n",
      "       [ 0.,  0.,  0., ..., 16.,  9.,  0.],\n",
      "       [ 0.,  0.,  1., ..., 16., 16.,  8.]]), 4: array([[0., 0., 0., ..., 4., 0., 0.],\n",
      "       [0., 0., 0., ..., 4., 0., 0.],\n",
      "       [0., 0., 0., ..., 8., 0., 0.],\n",
      "       ...,\n",
      "       [0., 0., 0., ..., 0., 0., 0.],\n",
      "       [0., 0., 0., ..., 0., 0., 0.],\n",
      "       [0., 0., 3., ..., 0., 0., 0.]]), 5: array([[ 0.,  0., 12., ..., 10.,  0.,  0.],\n",
      "       [ 0.,  5., 12., ...,  0.,  0.,  0.],\n",
      "       [ 0.,  0., 12., ...,  0.,  0.,  0.],\n",
      "       ...,\n",
      "       [ 0.,  0., 11., ...,  2.,  0.,  0.],\n",
      "       [ 0.,  1.,  9., ...,  1.,  0.,  0.],\n",
      "       [ 0.,  0.,  9., ...,  7.,  0.,  0.]]), 6: array([[ 0.,  0.,  0., ..., 11.,  3.,  0.],\n",
      "       [ 0.,  0.,  0., ..., 16., 11.,  0.],\n",
      "       [ 0.,  0.,  1., ..., 14.,  7.,  0.],\n",
      "       ...,\n",
      "       [ 0.,  0.,  0., ..., 16.,  7.,  0.],\n",
      "       [ 0.,  0.,  0., ...,  5.,  0.,  0.],\n",
      "       [ 0.,  0.,  0., ..., 12.,  0.,  0.]]), 7: array([[0., 0., 7., ..., 0., 0., 0.],\n",
      "       [0., 0., 1., ..., 0., 0., 0.],\n",
      "       [0., 0., 0., ..., 1., 0., 0.],\n",
      "       ...,\n",
      "       [0., 0., 9., ..., 0., 0., 0.],\n",
      "       [0., 0., 3., ..., 0., 0., 0.],\n",
      "       [0., 0., 6., ..., 0., 0., 0.]]), 8: array([[ 0.,  0.,  9., ..., 11.,  1.,  0.],\n",
      "       [ 0.,  0., 10., ...,  0.,  0.,  0.],\n",
      "       [ 0.,  0., 10., ...,  1.,  0.,  0.],\n",
      "       ...,\n",
      "       [ 0.,  0.,  0., ..., 16., 14.,  0.],\n",
      "       [ 0.,  0.,  0., ..., 15., 13.,  0.],\n",
      "       [ 0.,  0.,  0., ..., 15., 15.,  0.]]), 9: array([[ 0.,  0., 11., ...,  3.,  0.,  0.],\n",
      "       [ 0.,  0.,  6., ..., 13., 11.,  1.],\n",
      "       [ 0.,  0.,  9., ..., 12., 11.,  0.],\n",
      "       ...,\n",
      "       [ 0.,  0.,  2., ..., 16.,  6.,  0.],\n",
      "       [ 0.,  0.,  1., ...,  7.,  0.,  0.],\n",
      "       [ 0.,  0.,  6., ..., 12.,  0.,  0.]])}\n",
      "(60, 64)\n",
      "the second test, 2:  {2: array([[ 0.,  0.,  0., ..., 16.,  9.,  0.],\n",
      "       [ 0.,  0.,  5., ..., 13., 12.,  4.],\n",
      "       [ 0.,  0.,  8., ..., 12., 13.,  1.],\n",
      "       ...,\n",
      "       [ 0.,  0.,  3., ..., 12., 14.,  7.],\n",
      "       [ 0.,  0.,  7., ..., 12., 12., 11.],\n",
      "       [ 0.,  0.,  9., ..., 16., 16.,  3.]])}\n"
     ]
    }
   ],
   "source": [
    "import numpy \n",
    "# att skapa en dictionary här\n",
    "\n",
    "def split_data(data, data_labels, labels): \n",
    "    # to calculate the number of columns and rows \n",
    "    Nr_columns = data.shape[0] \n",
    "    Nr_rows = data.shape[1]\n",
    "    # Only the data with the intended index should be kept from this function\n",
    "    data_split = {index:data[np.where(data_labels==index)] for index in labels}\n",
    "            \n",
    "    return data_split\n",
    "# a vector of the labels (here the numbers 0,...,9) \n",
    "current_label = np.array([0,1,2,3,4,5,6,7,8,9])  \n",
    " \n",
    "temp_data = split_data(training_digits, training_labels, current_label)  \n",
    "print('the first test, 0 - 9: ', temp_data )               \n",
    "print(temp_data[1].shape) \n",
    "\n",
    "current_label2 = np.array([ 2 ])  \n",
    " \n",
    "temp_data2 = split_data(training_digits, training_labels, current_label2)  \n",
    "print('the second test, 2: ', temp_data2)        "
   ]
  },
  {
   "cell_type": "markdown",
   "metadata": {},
   "source": [
    "f) Create a function `subspaces(labelled_data, k = 3)` that takes a dictionary such as above, and returns a dictionary mapping every occurring label $d$ to the respective $Z_d$ matrix with at most $k$ rows. Here the $Z_d$ matrices is defined as above, the best norm-2-approximation. If a particular matrix has a rank $r < k$, we should only keep $r$ rows (say, if there were many more *different* digit 9-rows in the training set, than digit 1:s)!\n"
   ]
  },
  {
   "cell_type": "code",
   "execution_count": 9,
   "metadata": {},
   "outputs": [
    {
     "name": "stdout",
     "output_type": "stream",
     "text": [
      "(3, 64)\n",
      "(3, 64)\n"
     ]
    }
   ],
   "source": [
    "from numpy.linalg import matrix_rank\n",
    "\n",
    "\n",
    "def subspaces(labelled_data, k=3):\n",
    "    # to create an empty dictionary \n",
    "    d = {}  \n",
    "    for labels in labelled_data.keys():\n",
    "        \n",
    "        u, s, UA = np.linalg.svd(labelled_data[labels], full_matrices=False)\n",
    "        # the  𝑍𝑑  matrices is defined as above, the best norm-2-approximation\n",
    "        r= matrix_rank(labelled_data[labels])\n",
    "        \n",
    "        if r < k:\n",
    "            d[labels] = UA[0:r, ]\n",
    "        else:\n",
    "            d[labels] = UA[0:k, ]\n",
    "    return d\n",
    "\n",
    "rs = subspaces(temp_datan, 3)\n",
    "print(rs[4].shape)  \n",
    "print(rs[9].shape)               "
   ]
  },
  {
   "cell_type": "markdown",
   "metadata": {},
   "source": [
    "g) Create a function `classification(spaces, x)` that takes a dictionary such as produced by `subspaces` above and a single vector and produces the label of the subspace with the smallest norm-2-distance. In the task above, this would have meant that classifying $sample4$ would have produced the label 4 rather than 9, since $sample4$ was closer to the subspace $Z_4$ than the subspace $Z_9$."
   ]
  },
  {
   "cell_type": "code",
   "execution_count": 10,
   "metadata": {},
   "outputs": [
    {
     "name": "stdout",
     "output_type": "stream",
     "text": [
      "result for sample 4 is 4\n",
      "result for sample 9 is 9\n",
      "result for sample 7 is 7\n",
      "result for sample 8 is 8\n"
     ]
    }
   ],
   "source": [
    "def classification(spaces, x):\n",
    "    # spaces: a dictionary which hass been produced by subspaces() from above \n",
    "    # x: a single vector \n",
    "    min_value=1000000000\n",
    "    best_label =1\n",
    "    # d.items() returns a liste of key-value pairs from a dictionary\n",
    "    # there are two variables in each dictionary, key and value, therefore the for-loop needs to contain two variables\n",
    "    for (key, value) in spaces.items(): \n",
    "        \n",
    "        # values in each list is a specific subspace \n",
    "        tempk1 = value @ x.transpose() @ value\n",
    "        # a standard numpy function here \n",
    "        tempk2 = np.linalg.norm(tempk1-x)\n",
    "        \n",
    "        if tempk2 < min_value: \n",
    "            min_value = tempk2\n",
    "            best_label = key\n",
    "            \n",
    "    return best_label\n",
    "\n",
    "print(\"result for sample 4 is\", classification(rs,sample4) )\n",
    "\n",
    "print(\"result for sample 9 is\", classification(rs,sample9) ) \n",
    "\n",
    "\n",
    "# additional tests, aiming to test if other the function would mend other cases equally well\n",
    "a7 = digits.data[np.where(training_labels == 7)]\n",
    "𝑠𝑎𝑚𝑝𝑙𝑒7=a7[0] \n",
    "print(\"result for sample 7 is\", classification(rs,sample7) )   \n",
    "a8 = digits.data[np.where(training_labels == 8)]\n",
    "𝑠𝑎𝑚𝑝𝑙𝑒8=a8[0] \n",
    "print(\"result for sample 8 is\", classification(rs,sample8) )     \n",
    "# the two additional tests confirm the fact that this function works sufficiently well      "
   ]
  },
  {
   "cell_type": "markdown",
   "metadata": {},
   "source": [
    "h) Now pick the first 600 rows as training and the remaining (about 1100) as validation sets. What percentage does the classifier get right? What happens if you pick $k = 5, 10, 100, 1000$? Try it out. (The sharp-eyed student will notice that not all of these choices make sense from a mathematical perspective.)"
   ]
  },
  {
   "cell_type": "code",
   "execution_count": 11,
   "metadata": {},
   "outputs": [
    {
     "name": "stdout",
     "output_type": "stream",
     "text": [
      "for k = 5, the expected correct prediction is up to  0.9280936454849499\n",
      "for k = 10, the expected correct prediction is up to  0.9590301003344481\n",
      "for k = 50, the expected correct prediction is up to  0.5409698996655519\n",
      "for k = 100, the expected correct prediction is up to  0.5978260869565217\n",
      "for k = 10000, the expected correct prediction is up to  0.5978260869565217\n"
     ]
    }
   ],
   "source": [
    "from sklearn.metrics import confusion_matrix\n",
    "# to compare the correct classification with the predicted classification \n",
    "# the last choice does not make sense, since \n",
    "input_data = digits.data\n",
    "# to split the data into two chunks, training data and validation data \n",
    "# training data\n",
    "training = input_data[0:600,]\n",
    "\n",
    "classification_labels = digits.target\n",
    "\n",
    "data_labels_training = classification_labels[0:600] \n",
    "# validation data\n",
    "dlength = len(input_data)\n",
    "validation = input_data[601: dlength,]\n",
    "data_labels_validation = classification_labels[601:dlength] \n",
    "    \n",
    "# to split the data \n",
    "splited_trainingdata=split_data(training, data_labels_training, temp_etikett)\n",
    "\n",
    "def validation_est(k, validation, data_labels_validation, splited_trainingdata):\n",
    "    training_subspaces=subspaces(splited_trainingdata, k) \n",
    "    # a vector of the labels (here the numbers 0,...,9) \n",
    "    temp_etikett = np.array([0,1,2,3,4,5,6,7,8,9]) \n",
    "    # to create an empty vector  \n",
    "    ref_correct = []\n",
    "    length_data = []\n",
    "    \n",
    "    for i in temp_etikett:\n",
    "        # to obtain the current data \n",
    "        current_sample = validation[np.where(data_labels_validation == i)] \n",
    "        # to estimate the number of elements in each row of data\n",
    "        current_length = current_sample.shape[0]\n",
    "        validation_est =[] \n",
    "        \n",
    "        for st in range( current_length ): \n",
    "            current_vector = current_sample[st]\n",
    "            current_classofication = classification(training_subspaces,current_vector)\n",
    "            validation_est.append(current_classofication) \n",
    "  \n",
    "        ref_correct.append(validation_est.count(i))\n",
    "        length_data.append(current_length)\n",
    "          \n",
    "    correct_pred = sum(ref_correct)\n",
    "    num_elem = sum(length_data)\n",
    "    correct_rate = correct_pred/num_elem     \n",
    "    return correct_rate    \n",
    " \n",
    "# k = 5 \n",
    "#print(digits.data.shape) \n",
    "#print(digits.target.shape)       \n",
    "correct_prediction_k5 = validation_est(k = 5, validation= validation, data_labels_validation= data_labels_validation, splited_trainingdata=splited_trainingdata)\n",
    "print(\"for k = 5, the expected correct prediction is up to \", correct_prediction_k5)       \n",
    "\n",
    "correct_prediction_k10 = validation_est(k = 10, validation= validation, data_labels_validation= data_labels_validation, splited_trainingdata=splited_trainingdata)\n",
    "print(\"for k = 10, the expected correct prediction is up to \", correct_prediction_k10)  \n",
    "\n",
    "correct_prediction_k50 = validation_est(k = 50, validation= validation, data_labels_validation= data_labels_validation, splited_trainingdata=splited_trainingdata)\n",
    "print(\"for k = 50, the expected correct prediction is up to \", correct_prediction_k50) \n",
    "\n",
    "correct_prediction_k100 = validation_est(k = 100, validation= validation, data_labels_validation= data_labels_validation, splited_trainingdata=splited_trainingdata)\n",
    "print(\"for k = 100, the expected correct prediction is up to \", correct_prediction_k100) \n",
    "\n",
    "correct_prediction_k10000 = validation_est(k = 10000, validation= validation, data_labels_validation= data_labels_validation, splited_trainingdata=splited_trainingdata)\n",
    "print(\"for k = 10000, the expected correct prediction is up to \", correct_prediction_k10000)      \n",
    " \n",
    " "
   ]
  },
  {
   "cell_type": "markdown",
   "metadata": {},
   "source": [
    "# 7. Encapsulating the classifier"
   ]
  },
  {
   "cell_type": "markdown",
   "metadata": {},
   "source": [
    "Above we have a set of functions floating around in a global namespace. If we change some data and rerun some cells, we might get unexpected results. We instead want to encapsulate this in a single class."
   ]
  },
  {
   "cell_type": "markdown",
   "metadata": {},
   "source": [
    "a) Create a class `NaiveProjection`. It should have the following properties:\n",
    "* An instance is created with `NaiveProjection(training_data, training_labels, all_labels, k)` where $k$ is optional (and defaults to 3). \n",
    "\n",
    "For instance, we should be able to run ```dig_class = NaiveProjection(training_data = digits.data[0:600,:], training_labels = digits.target[0:600], all_labels = digits.target_names)```.\n",
    "* The class should have a method called `classification` which takes vector and returns the classification of that vector as defined above (minimum 2-norm distance to the subspace).\n",
    "* The class should have a method called `hitrate` which takes a matrix of row vectors, a vector of correct labels and returns the rate of successfully classified \n",
    "* All data about subspaces and labels should be stored within the instance. We may not use any data stored outside (though it is of course OK to call outside functions). We should be able to create two (or more) independent classifiers\n",
    "\n",
    "```\n",
    "dig15 = NaiveProjection(digits.data[0:600, :], digits.target[0:600], k = 15)\n",
    "dig1 = NaiveProjection(digits.data[0:600, :], digits.target[0:600], k = 1)\n",
    "```\n",
    "which should be entirely independent."
   ]
  },
  {
   "cell_type": "code",
   "execution_count": 78,
   "metadata": {},
   "outputs": [],
   "source": [
    "from numpy.linalg import matrix_rank\n",
    "\n",
    "class NaiveProjection:\n",
    "\n",
    "    def __init__(self, training_data, training_labels, all_labels, k):\n",
    "        self.labels = all_labels\n",
    "\n",
    "        # in accordance with the definition from the previous task\n",
    "        # the vector is assumed to be a fixed vector currently\n",
    "        current_label = [] \n",
    "        for i in all_labels:\n",
    "            if i not in current_label:\n",
    "                current_label.append(i)     \n",
    "        current_label.sort()        \n",
    "                \n",
    "        # to split the training data, produced with the help of Charlie\n",
    "        # to create a dictionary\n",
    "        split_data = {index:training_data[np.where(training_labels==index)] for index in current_label}\n",
    "        \n",
    "        # by doing so, the original calculated data will not be changed in future calculations\n",
    "        labelled_data = split_data\n",
    "        # to create an empty space dictionary\n",
    "        spaces = {} \n",
    "        \n",
    "        for labels in labelled_data.keys():  \n",
    "            \n",
    "            u, s, UA = np.linalg.svd(labelled_data[labels], full_matrices=False)\n",
    "            r = matrix_rank(labelled_data[labels])\n",
    "            \n",
    "            if r < k:\n",
    "                spaces[labels] = UA[0:r, ]\n",
    "            else:\n",
    "                spaces[labels] = UA[0:k, ]      \n",
    "        self.spaces = spaces   \n",
    "        \n",
    "        \n",
    "    def classification(self, samplex):\n",
    "        # again, two reference variables are used\n",
    "        min_value=1000000000\n",
    "        best_label =1\n",
    "        \n",
    "        spaces = self.spaces\n",
    "        #print(\"Spaces: \" + str(spaces))\n",
    "        for (labels, each_space) in spaces.items(): \n",
    "            # values in each list is a specific subspace \n",
    "            # using the same method, which we have been using in task d previously \n",
    "            tempk1 = each_space @ samplex @ each_space\n",
    "            # a standard numpy function here \n",
    "            tempk2 = np.linalg.norm(tempk1-samplex)\n",
    "            if tempk2 < min_value: \n",
    "                min_value = tempk2\n",
    "                best_label = labels    \n",
    "      \n",
    "        return best_label \n",
    "          \n",
    "        \n",
    "    def hitrate(self, validation_data, validation_targets):\n",
    "        # validation_data, validation_targets, two input data\n",
    "        # to create two empty vectors   \n",
    "        ref_correct = []\n",
    "        length_data = [] \n",
    "        # to create a list of unique validation labels \n",
    "        # to avoid using the same label, multiple times \n",
    "        validation_unique_labels = [] \n",
    "        for i in validation_targets:\n",
    "            if i not in validation_unique_labels:\n",
    "                validation_unique_labels.append(i)\n",
    "                \n",
    "        validation_unique_labels.sort()      \n",
    "    \n",
    "        # to perform the classification \n",
    "        for labels in validation_unique_labels:\n",
    "            validation_est = []\n",
    "            # to pick those rows that correspond to labels, one of which in validation_unique_labels\n",
    "            current_sample = validation_data[np.where(validation_targets == labels)] \n",
    "            \n",
    "            # to estimate the number of elements in each row of data\n",
    "            current_length = current_sample.shape[0]\n",
    "            length_data.append(current_length)\n",
    "           \n",
    "            for st in range(current_length): \n",
    "                current_vector = current_sample[st]                  \n",
    "                current_classification = self.classification(current_vector)  \n",
    "                validation_est.append(current_classification)\n",
    "            \n",
    "            ref_correct.append(validation_est.count(labels))  \n",
    "            \n",
    "        correct_pred = sum(ref_correct)\n",
    "        num_elem = sum(length_data)\n",
    "        correct_rate = correct_pred/num_elem \n",
    "       \n",
    "        return correct_rate                           "
   ]
  },
  {
   "cell_type": "markdown",
   "metadata": {},
   "source": [
    "There are several noteworthy issues here.\n",
    "* We have taken a few mathematical shortcuts.\n",
    "* There is no error handling. \n",
    "* We have not discussed overlapping subspaces, sampling strategies or the like.\n",
    "* It might make a lot more sense to classify a matrix of vectors, rather than a single vector (to utilise the speed of computations). \n",
    "\n",
    "Most of this is left to an actual statistics course. The interested reader is referred to for instance Strang - Linear algebra and learning from data, or Golub & van Loan - Matrix computations."
   ]
  },
  {
   "cell_type": "code",
   "execution_count": 79,
   "metadata": {},
   "outputs": [
    {
     "name": "stdout",
     "output_type": "stream",
     "text": [
      "Hit rate for k = 1: 0.8478260869565217\n",
      "training data, k = 1: 0.9033333333333333\n",
      "Hit rate for k = 15: 0.967391304347826\n",
      "training data, k = 15: 1.0\n"
     ]
    }
   ],
   "source": [
    "# You can test here\n",
    "dig1 = NaiveProjection(digits.data[0:600, :], digits.target[0:600], digits.target_names, k = 1) \n",
    "dig15 = NaiveProjection(digits.data[0:600, :], digits.target[0:600], digits.target_names, k = 15)\n",
    "\n",
    "\n",
    "print(f\"Hit rate for k = 1: {dig1.hitrate(digits.data[601:], digits.target[601:])}\")  \n",
    "print(f\"training data, k = 1: {dig1.hitrate(digits.data[0:600], digits.target[0:600])}\")  \n",
    "print(f\"Hit rate for k = 15: {dig15.hitrate(digits.data[601:], digits.target[601:])}\")      \n",
    "print(f\"training data, k = 15: {dig15.hitrate(digits.data[0:600], digits.target[0:600])}\")                   "
   ]
  },
  {
   "cell_type": "markdown",
   "metadata": {},
   "source": [
    "b) Experiment with different values of $k$ and training data/validation data sets. Plot the results using the library ```matplotlib```."
   ]
  },
  {
   "cell_type": "code",
   "execution_count": 81,
   "metadata": {},
   "outputs": [],
   "source": [
    "from matplotlib import pyplot as plt  \n",
    "\n",
    "# three k values are included, k = 10, k = 100 and k = 1000 \n",
    "k_value = np.array([1, 5, 10, 15, 30, 45, 50, 60, 90, 100, 200, 300, 400, 500, 1000]) \n",
    "k_length = len(k_value)\n",
    "\n",
    "training_correct = [] \n",
    "validation_corret = [] \n",
    "\n",
    "for kvar in k_value: \n",
    "    #print(kvar)\n",
    "    training_data = NaiveProjection(digits.data[0:600, :], digits.target[0:600], digits.target_names, k = kvar) \n",
    "    training_pred = training_data.hitrate(digits.data[0:600], digits.target[0:600]) \n",
    "    validation_pred = training_data.hitrate(digits.data[601:], digits.target[601:])\n",
    "    training_correct.append(training_pred) \n",
    "    validation_corret.append(validation_pred) \n",
    "\n",
    "#print(training_correct)\n",
    "#print(validation_corret)     "
   ]
  },
  {
   "cell_type": "code",
   "execution_count": 82,
   "metadata": {},
   "outputs": [
    {
     "data": {
      "text/plain": [
       "Text(0, 0.5, 'Correctness')"
      ]
     },
     "execution_count": 82,
     "metadata": {},
     "output_type": "execute_result"
    },
    {
     "data": {
      "image/png": "[encoded data removed]",
      "text/plain": [
       "<Figure size 432x288 with 1 Axes>"
      ]
     },
     "metadata": {
      "needs_background": "light"
     },
     "output_type": "display_data"
    }
   ],
   "source": [
    "plt.plot(k_value, training_correct, label='training data') \n",
    "plt.plot(k_value, validation_corret, label='validation data') \n",
    "plt.legend()\n",
    "plt.xlabel('k values')\n",
    "plt.ylabel('Correctness')  "
   ]
  },
  {
   "cell_type": "markdown",
   "metadata": {},
   "source": [
    "## Acknowledgments"
   ]
  },
  {
   "cell_type": "markdown",
   "metadata": {},
   "source": [
    "This lab in 732A74 is by Anders Märak Leffler (2019), with a major revision in 2020. The introductory text is by Johan Falkenjack (2018).\n",
    "\n",
    "Licensed under [CC-BY-SA 4.0](https://creativecommons.org/licenses/by-sa/4.0/)."
   ]
  }
 ],
 "metadata": {
  "anaconda-cloud": {},
  "kernelspec": {
   "display_name": "Python 3",
   "language": "python",
   "name": "python3"
  },
  "language_info": {
   "codemirror_mode": {
    "name": "ipython",
    "version": 3
   },
   "file_extension": ".py",
   "mimetype": "text/x-python",
   "name": "python",
   "nbconvert_exporter": "python",
   "pygments_lexer": "ipython3",
   "version": "3.7.6"
  }
 },
 "nbformat": 4,
 "nbformat_minor": 2
}
